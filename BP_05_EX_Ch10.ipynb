{
  "nbformat": 4,
  "nbformat_minor": 0,
  "metadata": {
    "colab": {
      "provenance": [],
      "authorship_tag": "ABX9TyO8zdXSpAcw4x7/XZn+hZm9",
      "include_colab_link": true
    },
    "kernelspec": {
      "name": "python3",
      "display_name": "Python 3"
    },
    "language_info": {
      "name": "python"
    }
  },
  "cells": [
    {
      "cell_type": "markdown",
      "metadata": {
        "id": "view-in-github",
        "colab_type": "text"
      },
      "source": [
        "<a href=\"https://colab.research.google.com/github/Hyeytt/BP_05_Ch10/blob/main/BP_05_EX_Ch10.ipynb\" target=\"_parent\"><img src=\"https://colab.research.google.com/assets/colab-badge.svg\" alt=\"Open In Colab\"/></a>"
      ]
    },
    {
      "cell_type": "markdown",
      "source": [
        "# 1. 다음과 같이 하나의 레이블과 2개의 버튼을 가지는 프로그램을 작성해보자."
      ],
      "metadata": {
        "id": "cX_biKbAMQqw"
      }
    },
    {
      "cell_type": "code",
      "execution_count": null,
      "metadata": {
        "id": "yksZ6ZhIMONP"
      },
      "outputs": [],
      "source": []
    },
    {
      "cell_type": "markdown",
      "source": [
        "# 2. 숫자를 입력하고“더하기” 버튼을 누르면 합계에 더해지고 \"빼기” 버튼을 누르면 합계에서 빼지는 계산기를 작성하여 본다."
      ],
      "metadata": {
        "id": "W0PpY7rvMgU4"
      }
    },
    {
      "cell_type": "code",
      "source": [],
      "metadata": {
        "id": "d-F9Yq8zM2H8"
      },
      "execution_count": null,
      "outputs": []
    },
    {
      "cell_type": "markdown",
      "source": [
        "# 3. 우리가 앞에서 텍스트 버전으로 제작하였던 숫자 맞추기 게임을 그래픽 사용자 인터페이스 버전으로 작성해보자."
      ],
      "metadata": {
        "id": "7IlSCu-fM2fx"
      }
    },
    {
      "cell_type": "code",
      "source": [],
      "metadata": {
        "id": "ZsIYF9XWNE_L"
      },
      "execution_count": null,
      "outputs": []
    },
    {
      "cell_type": "markdown",
      "source": [
        "# 4. 인치를 센티미터로 변환하는 다음과 같은 프로그램을 작성해보자."
      ],
      "metadata": {
        "id": "Sbp3fUdpNFMU"
      }
    },
    {
      "cell_type": "code",
      "source": [],
      "metadata": {
        "id": "cryQB6TANTHj"
      },
      "execution_count": null,
      "outputs": []
    },
    {
      "cell_type": "markdown",
      "source": [
        "# 5. 데이터를 입럭받을때 사용할 수 있는 다음과 같은 애플리케이션을 작성해보자."
      ],
      "metadata": {
        "id": "tm8B7PmHNLX2"
      }
    },
    {
      "cell_type": "code",
      "source": [],
      "metadata": {
        "id": "zCGx6SSxNVH-"
      },
      "execution_count": null,
      "outputs": []
    },
    {
      "cell_type": "markdown",
      "source": [
        "# 6. 가위, 바위 보 게임을 GUI버전으로 작성해보자 사용자의 선택은 왼쪽에 이미지로 표시한다. 컴퓨터의 선택은 오른쪽에 이미지로 표시한다. 사용자는 버튼을 늘러서 가위,바위, 보 중에서 하나를 선택할 수 있다. 사용자의 선택이 끝나면 결과를 화면에 텍스트로 표시한다.\n"
      ],
      "metadata": {
        "id": "fngC-_YRNTbz"
      }
    },
    {
      "cell_type": "code",
      "source": [],
      "metadata": {
        "id": "0pjitzmsNSNv"
      },
      "execution_count": null,
      "outputs": []
    }
  ]
}